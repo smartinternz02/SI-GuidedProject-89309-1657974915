{
 "cells": [
  {
   "cell_type": "code",
   "execution_count": 1,
   "id": "74f5b1f1",
   "metadata": {},
   "outputs": [],
   "source": [
    "from keras.models import Sequential\n",
    "from keras.layers import Dense\n",
    "from keras.layers import Convolution2D\n",
    "from keras.layers import MaxPooling2D\n",
    "from keras.layers import Flatten"
   ]
  },
  {
   "cell_type": "code",
   "execution_count": 2,
   "id": "8f4bad4d",
   "metadata": {},
   "outputs": [],
   "source": [
    "from keras.preprocessing.image import ImageDataGenerator\n",
    "train_datagen = ImageDataGenerator(rescale = 1./255,shear_range = 0.2,zoom_range = 0.2,horizontal_flip = True)\n",
    "test_datagen = ImageDataGenerator(rescale = 1./255)"
   ]
  },
  {
   "cell_type": "code",
   "execution_count": 3,
   "id": "6d452dce",
   "metadata": {},
   "outputs": [
    {
     "name": "stdout",
     "output_type": "stream",
     "text": [
      "Found 102 images belonging to 2 classes.\n",
      "Found 40 images belonging to 2 classes.\n"
     ]
    }
   ],
   "source": [
    "x_train = train_datagen.flow_from_directory(\n",
    "    r'D:\\InternshipProject\\Lungcancer\\trainset'\n",
    "    ,target_size = (64,64),batch_size = 32 ,\n",
    "    class_mode = 'binary',color_mode=\"grayscale\")\n",
    "x_test = test_datagen.flow_from_directory(\n",
    "    r'D:\\InternshipProject\\Lungcancer\\testset',\n",
    "    target_size = (64,64),batch_size = 32 , \n",
    "    class_mode = 'binary',color_mode=\"grayscale\")"
   ]
  },
  {
   "cell_type": "code",
   "execution_count": 4,
   "id": "50614a82",
   "metadata": {},
   "outputs": [
    {
     "name": "stdout",
     "output_type": "stream",
     "text": [
      "{'Cancer': 0, 'NonCancer': 1}\n"
     ]
    }
   ],
   "source": [
    "print(x_train.class_indices)"
   ]
  },
  {
   "cell_type": "code",
   "execution_count": 5,
   "id": "9f51dd9d",
   "metadata": {},
   "outputs": [],
   "source": [
    "model = Sequential()"
   ]
  },
  {
   "cell_type": "code",
   "execution_count": 6,
   "id": "afec1349",
   "metadata": {},
   "outputs": [],
   "source": [
    "model.add(Convolution2D(32,(3,3), input_shape = (64,64,1),activation = \"relu\"))"
   ]
  },
  {
   "cell_type": "code",
   "execution_count": 7,
   "id": "0dcbcfd8",
   "metadata": {},
   "outputs": [],
   "source": [
    "model.add(MaxPooling2D(pool_size = (2,2)))"
   ]
  },
  {
   "cell_type": "code",
   "execution_count": 8,
   "id": "a4301d2e",
   "metadata": {},
   "outputs": [],
   "source": [
    "model.add(Flatten())"
   ]
  },
  {
   "cell_type": "code",
   "execution_count": 9,
   "id": "0412a1dc",
   "metadata": {},
   "outputs": [],
   "source": [
    "model.add(Dense(units = 128,kernel_initializer = \"random_uniform\",activation = \"relu\"))"
   ]
  },
  {
   "cell_type": "code",
   "execution_count": 10,
   "id": "1b58b972",
   "metadata": {},
   "outputs": [],
   "source": [
    "model.add(Dense(units = 1,kernel_initializer = \"random_uniform\",activation = \"sigmoid\"))"
   ]
  },
  {
   "cell_type": "code",
   "execution_count": 11,
   "id": "c2dc13a2",
   "metadata": {},
   "outputs": [],
   "source": [
    "model.compile(loss = \"binary_crossentropy\",optimizer = \"adam\",metrics = [\"accuracy\"])"
   ]
  },
  {
   "cell_type": "code",
   "execution_count": 12,
   "id": "6e9f2be3",
   "metadata": {},
   "outputs": [
    {
     "name": "stderr",
     "output_type": "stream",
     "text": [
      "C:\\Users\\DELL\\AppData\\Local\\Temp/ipykernel_9976/69714135.py:1: UserWarning: `Model.fit_generator` is deprecated and will be removed in a future version. Please use `Model.fit`, which supports generators.\n",
      "  model.fit_generator(x_train , steps_per_epoch = 4,\n"
     ]
    },
    {
     "name": "stdout",
     "output_type": "stream",
     "text": [
      "Epoch 1/100\n",
      "4/4 [==============================] - 4s 732ms/step - loss: 0.7122 - accuracy: 0.4804 - val_loss: 0.6516 - val_accuracy: 0.7000\n",
      "Epoch 2/100\n",
      "4/4 [==============================] - 2s 385ms/step - loss: 0.6472 - accuracy: 0.6961 - val_loss: 0.5810 - val_accuracy: 0.6750\n",
      "Epoch 3/100\n",
      "4/4 [==============================] - 1s 366ms/step - loss: 0.6070 - accuracy: 0.6373 - val_loss: 0.5758 - val_accuracy: 0.6500\n",
      "Epoch 4/100\n",
      "4/4 [==============================] - 1s 366ms/step - loss: 0.5805 - accuracy: 0.7059 - val_loss: 0.5779 - val_accuracy: 0.6750\n",
      "Epoch 5/100\n",
      "4/4 [==============================] - 1s 346ms/step - loss: 0.5736 - accuracy: 0.6863 - val_loss: 0.5239 - val_accuracy: 0.7000\n",
      "Epoch 6/100\n",
      "4/4 [==============================] - 1s 322ms/step - loss: 0.5095 - accuracy: 0.7255 - val_loss: 0.4792 - val_accuracy: 0.7250\n",
      "Epoch 7/100\n",
      "4/4 [==============================] - 2s 448ms/step - loss: 0.5804 - accuracy: 0.6961 - val_loss: 0.5621 - val_accuracy: 0.7750\n",
      "Epoch 8/100\n",
      "4/4 [==============================] - 1s 308ms/step - loss: 0.4853 - accuracy: 0.7353 - val_loss: 0.4993 - val_accuracy: 0.7750\n",
      "Epoch 9/100\n",
      "4/4 [==============================] - 2s 424ms/step - loss: 0.5059 - accuracy: 0.7451 - val_loss: 0.4288 - val_accuracy: 0.7250\n",
      "Epoch 10/100\n",
      "4/4 [==============================] - 1s 357ms/step - loss: 0.4522 - accuracy: 0.8333 - val_loss: 0.5309 - val_accuracy: 0.8250\n",
      "Epoch 11/100\n",
      "4/4 [==============================] - 2s 459ms/step - loss: 0.4956 - accuracy: 0.7647 - val_loss: 0.4223 - val_accuracy: 0.8500\n",
      "Epoch 12/100\n",
      "4/4 [==============================] - 2s 394ms/step - loss: 0.4000 - accuracy: 0.8333 - val_loss: 0.4132 - val_accuracy: 0.8500\n",
      "Epoch 13/100\n",
      "4/4 [==============================] - 1s 347ms/step - loss: 0.4164 - accuracy: 0.8039 - val_loss: 0.5164 - val_accuracy: 0.8000\n",
      "Epoch 14/100\n",
      "4/4 [==============================] - 1s 345ms/step - loss: 0.4199 - accuracy: 0.8137 - val_loss: 0.3869 - val_accuracy: 0.9000\n",
      "Epoch 15/100\n",
      "4/4 [==============================] - 1s 361ms/step - loss: 0.3567 - accuracy: 0.8333 - val_loss: 0.4291 - val_accuracy: 0.8750\n",
      "Epoch 16/100\n",
      "4/4 [==============================] - 2s 394ms/step - loss: 0.3421 - accuracy: 0.8824 - val_loss: 0.3440 - val_accuracy: 0.9250\n",
      "Epoch 17/100\n",
      "4/4 [==============================] - 2s 425ms/step - loss: 0.3876 - accuracy: 0.8333 - val_loss: 0.2874 - val_accuracy: 0.8750\n",
      "Epoch 18/100\n",
      "4/4 [==============================] - 1s 328ms/step - loss: 0.3513 - accuracy: 0.8235 - val_loss: 0.4085 - val_accuracy: 0.8500\n",
      "Epoch 19/100\n",
      "4/4 [==============================] - 2s 412ms/step - loss: 0.3525 - accuracy: 0.8431 - val_loss: 0.2310 - val_accuracy: 0.9000\n",
      "Epoch 20/100\n",
      "4/4 [==============================] - 1s 330ms/step - loss: 0.3586 - accuracy: 0.8529 - val_loss: 0.4316 - val_accuracy: 0.8000\n",
      "Epoch 21/100\n",
      "4/4 [==============================] - 2s 535ms/step - loss: 0.6005 - accuracy: 0.7059 - val_loss: 0.3554 - val_accuracy: 0.8750\n",
      "Epoch 22/100\n",
      "4/4 [==============================] - 1s 291ms/step - loss: 0.3603 - accuracy: 0.8627 - val_loss: 0.2979 - val_accuracy: 0.8500\n",
      "Epoch 23/100\n",
      "4/4 [==============================] - 2s 397ms/step - loss: 0.3604 - accuracy: 0.8333 - val_loss: 0.4307 - val_accuracy: 0.7750\n",
      "Epoch 24/100\n",
      "4/4 [==============================] - 1s 357ms/step - loss: 0.3954 - accuracy: 0.8627 - val_loss: 0.2942 - val_accuracy: 0.9000\n",
      "Epoch 25/100\n",
      "4/4 [==============================] - 1s 419ms/step - loss: 0.3139 - accuracy: 0.8725 - val_loss: 0.2151 - val_accuracy: 0.9250\n",
      "Epoch 26/100\n",
      "4/4 [==============================] - 1s 446ms/step - loss: 0.3158 - accuracy: 0.8725 - val_loss: 0.2390 - val_accuracy: 0.9500\n",
      "Epoch 27/100\n",
      "4/4 [==============================] - 1s 356ms/step - loss: 0.2857 - accuracy: 0.8824 - val_loss: 0.3949 - val_accuracy: 0.8000\n",
      "Epoch 28/100\n",
      "4/4 [==============================] - 2s 398ms/step - loss: 0.2532 - accuracy: 0.9216 - val_loss: 0.1876 - val_accuracy: 0.9000\n",
      "Epoch 29/100\n",
      "4/4 [==============================] - 1s 415ms/step - loss: 0.2833 - accuracy: 0.9118 - val_loss: 0.2589 - val_accuracy: 0.9000\n",
      "Epoch 30/100\n",
      "4/4 [==============================] - 1s 449ms/step - loss: 0.2370 - accuracy: 0.8922 - val_loss: 0.2445 - val_accuracy: 0.9000\n",
      "Epoch 31/100\n",
      "4/4 [==============================] - 1s 364ms/step - loss: 0.2013 - accuracy: 0.9412 - val_loss: 0.1790 - val_accuracy: 0.9500\n",
      "Epoch 32/100\n",
      "4/4 [==============================] - 2s 387ms/step - loss: 0.2220 - accuracy: 0.9216 - val_loss: 0.2208 - val_accuracy: 0.9250\n",
      "Epoch 33/100\n",
      "4/4 [==============================] - 1s 328ms/step - loss: 0.2071 - accuracy: 0.9118 - val_loss: 0.1558 - val_accuracy: 0.9500\n",
      "Epoch 34/100\n",
      "4/4 [==============================] - 1s 377ms/step - loss: 0.1722 - accuracy: 0.9412 - val_loss: 0.1437 - val_accuracy: 0.9500\n",
      "Epoch 35/100\n",
      "4/4 [==============================] - 2s 390ms/step - loss: 0.1766 - accuracy: 0.9412 - val_loss: 0.1823 - val_accuracy: 0.9500\n",
      "Epoch 36/100\n",
      "4/4 [==============================] - 1s 424ms/step - loss: 0.2160 - accuracy: 0.9118 - val_loss: 0.0961 - val_accuracy: 1.0000\n",
      "Epoch 37/100\n",
      "4/4 [==============================] - 2s 415ms/step - loss: 0.1567 - accuracy: 0.9510 - val_loss: 0.2083 - val_accuracy: 0.9000\n",
      "Epoch 38/100\n",
      "4/4 [==============================] - 1s 321ms/step - loss: 0.1572 - accuracy: 0.9314 - val_loss: 0.0876 - val_accuracy: 1.0000\n",
      "Epoch 39/100\n",
      "4/4 [==============================] - 2s 388ms/step - loss: 0.1811 - accuracy: 0.9314 - val_loss: 0.0829 - val_accuracy: 0.9750\n",
      "Epoch 40/100\n",
      "4/4 [==============================] - 1s 430ms/step - loss: 0.1109 - accuracy: 0.9706 - val_loss: 0.1295 - val_accuracy: 0.9500\n",
      "Epoch 41/100\n",
      "4/4 [==============================] - 2s 406ms/step - loss: 0.1923 - accuracy: 0.9216 - val_loss: 0.0711 - val_accuracy: 0.9750\n",
      "Epoch 42/100\n",
      "4/4 [==============================] - 1s 332ms/step - loss: 0.1158 - accuracy: 0.9510 - val_loss: 0.1696 - val_accuracy: 0.9250\n",
      "Epoch 43/100\n",
      "4/4 [==============================] - 1s 447ms/step - loss: 0.1078 - accuracy: 0.9706 - val_loss: 0.0870 - val_accuracy: 0.9750\n",
      "Epoch 44/100\n",
      "4/4 [==============================] - 2s 388ms/step - loss: 0.1138 - accuracy: 0.9510 - val_loss: 0.0903 - val_accuracy: 0.9750\n",
      "Epoch 45/100\n",
      "4/4 [==============================] - 1s 340ms/step - loss: 0.1267 - accuracy: 0.9510 - val_loss: 0.0518 - val_accuracy: 0.9750\n",
      "Epoch 46/100\n",
      "4/4 [==============================] - 2s 405ms/step - loss: 0.1587 - accuracy: 0.9608 - val_loss: 0.0671 - val_accuracy: 0.9750\n",
      "Epoch 47/100\n",
      "4/4 [==============================] - 1s 335ms/step - loss: 0.1059 - accuracy: 0.9706 - val_loss: 0.0927 - val_accuracy: 0.9750\n",
      "Epoch 48/100\n",
      "4/4 [==============================] - 2s 476ms/step - loss: 0.1549 - accuracy: 0.9314 - val_loss: 0.0586 - val_accuracy: 0.9750\n",
      "Epoch 49/100\n",
      "4/4 [==============================] - 1s 336ms/step - loss: 0.1153 - accuracy: 0.9706 - val_loss: 0.2069 - val_accuracy: 0.8750\n",
      "Epoch 50/100\n",
      "4/4 [==============================] - 2s 359ms/step - loss: 0.1670 - accuracy: 0.9118 - val_loss: 0.0541 - val_accuracy: 1.0000\n",
      "Epoch 51/100\n",
      "4/4 [==============================] - 2s 381ms/step - loss: 0.0923 - accuracy: 0.9804 - val_loss: 0.0431 - val_accuracy: 1.0000\n",
      "Epoch 52/100\n",
      "4/4 [==============================] - 2s 395ms/step - loss: 0.0713 - accuracy: 0.9902 - val_loss: 0.0556 - val_accuracy: 1.0000\n",
      "Epoch 53/100\n",
      "4/4 [==============================] - 1s 369ms/step - loss: 0.1303 - accuracy: 0.9706 - val_loss: 0.0478 - val_accuracy: 1.0000\n",
      "Epoch 54/100\n",
      "4/4 [==============================] - 1s 445ms/step - loss: 0.1162 - accuracy: 0.9706 - val_loss: 0.0611 - val_accuracy: 1.0000\n",
      "Epoch 55/100\n",
      "4/4 [==============================] - 1s 451ms/step - loss: 0.0921 - accuracy: 0.9902 - val_loss: 0.0280 - val_accuracy: 1.0000\n",
      "Epoch 56/100\n",
      "4/4 [==============================] - 1s 382ms/step - loss: 0.0783 - accuracy: 0.9804 - val_loss: 0.0569 - val_accuracy: 1.0000\n",
      "Epoch 57/100\n",
      "4/4 [==============================] - 1s 335ms/step - loss: 0.1153 - accuracy: 0.9510 - val_loss: 0.0231 - val_accuracy: 1.0000\n",
      "Epoch 58/100\n",
      "4/4 [==============================] - 2s 418ms/step - loss: 0.0946 - accuracy: 0.9706 - val_loss: 0.0303 - val_accuracy: 1.0000\n"
     ]
    },
    {
     "name": "stdout",
     "output_type": "stream",
     "text": [
      "Epoch 59/100\n",
      "4/4 [==============================] - 1s 344ms/step - loss: 0.0614 - accuracy: 0.9902 - val_loss: 0.0381 - val_accuracy: 1.0000\n",
      "Epoch 60/100\n",
      "4/4 [==============================] - 1s 372ms/step - loss: 0.0745 - accuracy: 0.9902 - val_loss: 0.0373 - val_accuracy: 1.0000\n",
      "Epoch 61/100\n",
      "4/4 [==============================] - 2s 466ms/step - loss: 0.1219 - accuracy: 0.9608 - val_loss: 0.0409 - val_accuracy: 1.0000\n",
      "Epoch 62/100\n",
      "4/4 [==============================] - 1s 370ms/step - loss: 0.0455 - accuracy: 1.0000 - val_loss: 0.0269 - val_accuracy: 1.0000\n",
      "Epoch 63/100\n",
      "4/4 [==============================] - 1s 331ms/step - loss: 0.0537 - accuracy: 1.0000 - val_loss: 0.0703 - val_accuracy: 1.0000\n",
      "Epoch 64/100\n",
      "4/4 [==============================] - 2s 380ms/step - loss: 0.0869 - accuracy: 0.9902 - val_loss: 0.0300 - val_accuracy: 1.0000\n",
      "Epoch 65/100\n",
      "4/4 [==============================] - 1s 372ms/step - loss: 0.0432 - accuracy: 1.0000 - val_loss: 0.0231 - val_accuracy: 1.0000\n",
      "Epoch 66/100\n",
      "4/4 [==============================] - 1s 331ms/step - loss: 0.0439 - accuracy: 1.0000 - val_loss: 0.0204 - val_accuracy: 1.0000\n",
      "Epoch 67/100\n",
      "4/4 [==============================] - 1s 449ms/step - loss: 0.0373 - accuracy: 1.0000 - val_loss: 0.0221 - val_accuracy: 1.0000\n",
      "Epoch 68/100\n",
      "4/4 [==============================] - 1s 412ms/step - loss: 0.0691 - accuracy: 0.9902 - val_loss: 0.0152 - val_accuracy: 1.0000\n",
      "Epoch 69/100\n",
      "4/4 [==============================] - 1s 381ms/step - loss: 0.0481 - accuracy: 0.9902 - val_loss: 0.0185 - val_accuracy: 1.0000\n",
      "Epoch 70/100\n",
      "4/4 [==============================] - 1s 387ms/step - loss: 0.0603 - accuracy: 0.9804 - val_loss: 0.0162 - val_accuracy: 1.0000\n",
      "Epoch 71/100\n",
      "4/4 [==============================] - 2s 390ms/step - loss: 0.0378 - accuracy: 0.9902 - val_loss: 0.0218 - val_accuracy: 1.0000\n",
      "Epoch 72/100\n",
      "4/4 [==============================] - 1s 354ms/step - loss: 0.0286 - accuracy: 1.0000 - val_loss: 0.0157 - val_accuracy: 1.0000\n",
      "Epoch 73/100\n",
      "4/4 [==============================] - 1s 309ms/step - loss: 0.0271 - accuracy: 1.0000 - val_loss: 0.0134 - val_accuracy: 1.0000\n",
      "Epoch 74/100\n",
      "4/4 [==============================] - 2s 396ms/step - loss: 0.0768 - accuracy: 0.9706 - val_loss: 0.0275 - val_accuracy: 1.0000\n",
      "Epoch 75/100\n",
      "4/4 [==============================] - 1s 342ms/step - loss: 0.0473 - accuracy: 0.9902 - val_loss: 0.0185 - val_accuracy: 1.0000\n",
      "Epoch 76/100\n",
      "4/4 [==============================] - 1s 338ms/step - loss: 0.0260 - accuracy: 1.0000 - val_loss: 0.0115 - val_accuracy: 1.0000\n",
      "Epoch 77/100\n",
      "4/4 [==============================] - 1s 376ms/step - loss: 0.0215 - accuracy: 1.0000 - val_loss: 0.0221 - val_accuracy: 1.0000\n",
      "Epoch 78/100\n",
      "4/4 [==============================] - 1s 348ms/step - loss: 0.0347 - accuracy: 1.0000 - val_loss: 0.0090 - val_accuracy: 1.0000\n",
      "Epoch 79/100\n",
      "4/4 [==============================] - 1s 345ms/step - loss: 0.0343 - accuracy: 1.0000 - val_loss: 0.0092 - val_accuracy: 1.0000\n",
      "Epoch 80/100\n",
      "4/4 [==============================] - 2s 381ms/step - loss: 0.0311 - accuracy: 0.9902 - val_loss: 0.0594 - val_accuracy: 1.0000\n",
      "Epoch 81/100\n",
      "4/4 [==============================] - 1s 344ms/step - loss: 0.0352 - accuracy: 0.9902 - val_loss: 0.0080 - val_accuracy: 1.0000\n",
      "Epoch 82/100\n",
      "4/4 [==============================] - 2s 380ms/step - loss: 0.0417 - accuracy: 0.9902 - val_loss: 0.0077 - val_accuracy: 1.0000\n",
      "Epoch 83/100\n",
      "4/4 [==============================] - 1s 331ms/step - loss: 0.0215 - accuracy: 1.0000 - val_loss: 0.0159 - val_accuracy: 1.0000\n",
      "Epoch 84/100\n",
      "4/4 [==============================] - 1s 376ms/step - loss: 0.0341 - accuracy: 1.0000 - val_loss: 0.0110 - val_accuracy: 1.0000\n",
      "Epoch 85/100\n",
      "4/4 [==============================] - 1s 413ms/step - loss: 0.0176 - accuracy: 1.0000 - val_loss: 0.0062 - val_accuracy: 1.0000\n",
      "Epoch 86/100\n",
      "4/4 [==============================] - 1s 356ms/step - loss: 0.0316 - accuracy: 0.9902 - val_loss: 0.0063 - val_accuracy: 1.0000\n",
      "Epoch 87/100\n",
      "4/4 [==============================] - 2s 405ms/step - loss: 0.0277 - accuracy: 0.9902 - val_loss: 0.0095 - val_accuracy: 1.0000\n",
      "Epoch 88/100\n",
      "4/4 [==============================] - 1s 321ms/step - loss: 0.0260 - accuracy: 1.0000 - val_loss: 0.0069 - val_accuracy: 1.0000\n",
      "Epoch 89/100\n",
      "4/4 [==============================] - 2s 487ms/step - loss: 0.0410 - accuracy: 0.9902 - val_loss: 0.0056 - val_accuracy: 1.0000\n",
      "Epoch 90/100\n",
      "4/4 [==============================] - 1s 355ms/step - loss: 0.0191 - accuracy: 0.9902 - val_loss: 0.0252 - val_accuracy: 1.0000\n",
      "Epoch 91/100\n",
      "4/4 [==============================] - 1s 420ms/step - loss: 0.0305 - accuracy: 0.9902 - val_loss: 0.0077 - val_accuracy: 1.0000\n",
      "Epoch 92/100\n",
      "4/4 [==============================] - 2s 461ms/step - loss: 0.0235 - accuracy: 1.0000 - val_loss: 0.0058 - val_accuracy: 1.0000\n",
      "Epoch 93/100\n",
      "4/4 [==============================] - 1s 389ms/step - loss: 0.0298 - accuracy: 0.9902 - val_loss: 0.0192 - val_accuracy: 1.0000\n",
      "Epoch 94/100\n",
      "4/4 [==============================] - 2s 397ms/step - loss: 0.0315 - accuracy: 0.9902 - val_loss: 0.0073 - val_accuracy: 1.0000\n",
      "Epoch 95/100\n",
      "4/4 [==============================] - 2s 390ms/step - loss: 0.0289 - accuracy: 0.9902 - val_loss: 0.0055 - val_accuracy: 1.0000\n",
      "Epoch 96/100\n",
      "4/4 [==============================] - 1s 375ms/step - loss: 0.0174 - accuracy: 1.0000 - val_loss: 0.0056 - val_accuracy: 1.0000\n",
      "Epoch 97/100\n",
      "4/4 [==============================] - 1s 417ms/step - loss: 0.0320 - accuracy: 0.9902 - val_loss: 0.0203 - val_accuracy: 1.0000\n",
      "Epoch 98/100\n",
      "4/4 [==============================] - 1s 317ms/step - loss: 0.0284 - accuracy: 0.9902 - val_loss: 0.0039 - val_accuracy: 1.0000\n",
      "Epoch 99/100\n",
      "4/4 [==============================] - 1s 381ms/step - loss: 0.0139 - accuracy: 1.0000 - val_loss: 0.0035 - val_accuracy: 1.0000\n",
      "Epoch 100/100\n",
      "4/4 [==============================] - 1s 348ms/step - loss: 0.0258 - accuracy: 1.0000 - val_loss: 0.0048 - val_accuracy: 1.0000\n"
     ]
    },
    {
     "data": {
      "text/plain": [
       "<keras.callbacks.History at 0x13529c136a0>"
      ]
     },
     "execution_count": 12,
     "metadata": {},
     "output_type": "execute_result"
    }
   ],
   "source": [
    "model.fit_generator(x_train , steps_per_epoch = 4, \n",
    "                    epochs = 100, validation_data = x_test, \n",
    "                    validation_steps = 2)"
   ]
  },
  {
   "cell_type": "code",
   "execution_count": 13,
   "id": "a2a9238f",
   "metadata": {},
   "outputs": [],
   "source": [
    "model.save(\"LungCancer.h5\")"
   ]
  },
  {
   "cell_type": "code",
   "execution_count": null,
   "id": "d84860d1",
   "metadata": {},
   "outputs": [],
   "source": []
  }
 ],
 "metadata": {
  "kernelspec": {
   "display_name": "Python 3 (ipykernel)",
   "language": "python",
   "name": "python3"
  },
  "language_info": {
   "codemirror_mode": {
    "name": "ipython",
    "version": 3
   },
   "file_extension": ".py",
   "mimetype": "text/x-python",
   "name": "python",
   "nbconvert_exporter": "python",
   "pygments_lexer": "ipython3",
   "version": "3.9.7"
  }
 },
 "nbformat": 4,
 "nbformat_minor": 5
}
